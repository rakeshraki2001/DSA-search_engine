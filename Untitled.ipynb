{
 "cells": [
  {
   "cell_type": "code",
   "execution_count": 1,
   "id": "7110fc1e",
   "metadata": {},
   "outputs": [],
   "source": [
    "a = \"Hi ra bayapadaku its one week\"\n",
    "b=\"today is the last day you\"\n"
   ]
  },
  {
   "cell_type": "code",
   "execution_count": null,
   "id": "c17da110",
   "metadata": {},
   "outputs": [],
   "source": []
  },
  {
   "cell_type": "code",
   "execution_count": 2,
   "id": "4f45ef6b",
   "metadata": {},
   "outputs": [],
   "source": [
    "awords= a.split(' ')\n",
    "bwords= b.split(' ')"
   ]
  },
  {
   "cell_type": "code",
   "execution_count": 3,
   "id": "3b595f92",
   "metadata": {},
   "outputs": [],
   "source": [
    "keys= set(awords).union(set(bwords))"
   ]
  },
  {
   "cell_type": "code",
   "execution_count": 4,
   "id": "dc5528fe",
   "metadata": {},
   "outputs": [
    {
     "name": "stdout",
     "output_type": "stream",
     "text": [
      "{'the', 'is', 'one', 'day', 'bayapadaku', 'its', 'today', 'Hi', 'week', 'ra', 'you', 'last'}\n"
     ]
    }
   ],
   "source": [
    "print(keys)"
   ]
  },
  {
   "cell_type": "code",
   "execution_count": 10,
   "id": "1cadceb9",
   "metadata": {},
   "outputs": [],
   "source": [
    "arr=[]"
   ]
  },
  {
   "cell_type": "code",
   "execution_count": 11,
   "id": "76ffbdd2",
   "metadata": {},
   "outputs": [
    {
     "name": "stdout",
     "output_type": "stream",
     "text": [
      "[{'the': 0, 'is': 0, 'one': 0.16666666666666666, 'day': 0, 'bayapadaku': 0.16666666666666666, 'its': 0.16666666666666666, 'today': 0, 'Hi': 0.16666666666666666, 'week': 0.16666666666666666, 'ra': 0.16666666666666666, 'you': 0, 'last': 0}, {'the': 0.16666666666666666, 'is': 0.16666666666666666, 'one': 0, 'day': 0.16666666666666666, 'bayapadaku': 0, 'its': 0, 'today': 0.16666666666666666, 'Hi': 0, 'week': 0, 'ra': 0, 'you': 0.16666666666666666, 'last': 0.16666666666666666}]\n"
     ]
    }
   ],
   "source": [
    "dicA= dict.fromkeys(keys,0)\n",
    "dicB= dict.fromkeys(keys,0)\n",
    "for word in awords:\n",
    "    dicA[word]+=(1/len(awords))\n",
    "\n",
    "arr.append(dicA)\n",
    "for word in bwords:\n",
    "    dicB[word]+=(1/len(bwords))\n",
    "\n",
    "arr.append(dicB)\n",
    "print(arr)"
   ]
  },
  {
   "cell_type": "code",
   "execution_count": 14,
   "id": "0d3aeed6",
   "metadata": {},
   "outputs": [
    {
     "name": "stdout",
     "output_type": "stream",
     "text": [
      "{'the': 0.6931471805599453, 'is': 0.6931471805599453, 'one': 0.6931471805599453, 'day': 0.6931471805599453, 'bayapadaku': 0.6931471805599453, 'its': 0.6931471805599453, 'today': 0.6931471805599453, 'Hi': 0.6931471805599453, 'week': 0.6931471805599453, 'ra': 0.6931471805599453, 'you': 0.6931471805599453, 'last': 0.6931471805599453}\n"
     ]
    }
   ],
   "source": [
    "import math\n",
    "idf= dict.fromkeys(keys,0)\n",
    "for ke in keys:\n",
    "    cnt=0\n",
    "    for dic in arr:\n",
    "        if(dic[ke]!=0):\n",
    "            cnt+=1\n",
    "    idf[ke]=math.log(len(arr)/cnt)\n",
    "print(idf)\n",
    "    "
   ]
  },
  {
   "cell_type": "code",
   "execution_count": 2,
   "id": "478c9a41",
   "metadata": {},
   "outputs": [],
   "source": [
    "s='Given an array of integers nums and an integer target, return indices of the two numbers such that they add up to target.You may assume that each input would have exactly one solution, and you may not use the same element twice.You can return the answer in any order.Example 1:Input: nums = [2,7,11,15], target = 9Output: [0,1]Explanation: Because nums[0] + nums[1] == 9, we return [0, 1].Example 2:Input: nums = [3,2,4], target = 6 Output: [1,2]'"
   ]
  },
  {
   "cell_type": "code",
   "execution_count": 3,
   "id": "c8bca1fc",
   "metadata": {},
   "outputs": [
    {
     "name": "stdout",
     "output_type": "stream",
     "text": [
      "Given an array of integers nums and an integer target, return indices of the two numbers such that they add up to target.You may assume that each input would have exactly one solution, and you may not use the same element twice.You can return the answer in any order.\n"
     ]
    }
   ],
   "source": [
    "p=s.split('Example')\n",
    "print(p[0])"
   ]
  },
  {
   "cell_type": "code",
   "execution_count": null,
   "id": "304039fc",
   "metadata": {},
   "outputs": [],
   "source": []
  }
 ],
 "metadata": {
  "kernelspec": {
   "display_name": "Python 3 (ipykernel)",
   "language": "python",
   "name": "python3"
  },
  "language_info": {
   "codemirror_mode": {
    "name": "ipython",
    "version": 3
   },
   "file_extension": ".py",
   "mimetype": "text/x-python",
   "name": "python",
   "nbconvert_exporter": "python",
   "pygments_lexer": "ipython3",
   "version": "3.10.5"
  }
 },
 "nbformat": 4,
 "nbformat_minor": 5
}
